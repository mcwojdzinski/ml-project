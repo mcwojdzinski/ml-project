{
  "cells": [
    {
      "cell_type": "code",
      "execution_count": 6,
      "id": "0bf1766d-11ac-405d-8304-781b1021e10f",
      "metadata": {
        "id": "0bf1766d-11ac-405d-8304-781b1021e10f"
      },
      "outputs": [],
      "source": [
        "#import libraries\n",
        "import numpy as np\n",
        "import pandas as pd\n",
        "import matplotlib.pyplot as plt\n",
        "from sklearn import metrics\n",
        "from sklearn.preprocessing import MinMaxScaler\n",
        "from keras.models import Sequential\n",
        "from keras.layers import Dense\n",
        "from keras.layers import LSTM\n",
        "from keras.layers import Dropout"
      ]
    },
    {
      "cell_type": "code",
      "execution_count": 7,
      "id": "476ee515-7578-4705-94b4-8e2c768479db",
      "metadata": {
        "id": "476ee515-7578-4705-94b4-8e2c768479db"
      },
      "outputs": [],
      "source": [
        "#import dataset\n",
        "dataset = pd.read_csv(\"datasets/TSLA.csv\")"
      ]
    },
    {
      "cell_type": "code",
      "execution_count": 8,
      "id": "025a5d94-58d3-4b4a-9225-09bc1fc35ba0",
      "metadata": {
        "colab": {
          "base_uri": "https://localhost:8080/",
          "height": 300
        },
        "id": "025a5d94-58d3-4b4a-9225-09bc1fc35ba0",
        "outputId": "cd5dec31-73bd-40af-ec7b-cc6aee73be1e"
      },
      "outputs": [
        {
          "data": {
            "text/html": [
              "<div>\n",
              "<style scoped>\n",
              "    .dataframe tbody tr th:only-of-type {\n",
              "        vertical-align: middle;\n",
              "    }\n",
              "\n",
              "    .dataframe tbody tr th {\n",
              "        vertical-align: top;\n",
              "    }\n",
              "\n",
              "    .dataframe thead th {\n",
              "        text-align: right;\n",
              "    }\n",
              "</style>\n",
              "<table border=\"1\" class=\"dataframe\">\n",
              "  <thead>\n",
              "    <tr style=\"text-align: right;\">\n",
              "      <th></th>\n",
              "      <th>Open</th>\n",
              "      <th>High</th>\n",
              "      <th>Low</th>\n",
              "      <th>Close</th>\n",
              "      <th>Adj Close</th>\n",
              "      <th>Volume</th>\n",
              "    </tr>\n",
              "  </thead>\n",
              "  <tbody>\n",
              "    <tr>\n",
              "      <th>count</th>\n",
              "      <td>2956.000000</td>\n",
              "      <td>2956.000000</td>\n",
              "      <td>2956.000000</td>\n",
              "      <td>2956.000000</td>\n",
              "      <td>2956.000000</td>\n",
              "      <td>2.956000e+03</td>\n",
              "    </tr>\n",
              "    <tr>\n",
              "      <th>mean</th>\n",
              "      <td>138.691296</td>\n",
              "      <td>141.771603</td>\n",
              "      <td>135.425953</td>\n",
              "      <td>138.762183</td>\n",
              "      <td>138.762183</td>\n",
              "      <td>3.131449e+07</td>\n",
              "    </tr>\n",
              "    <tr>\n",
              "      <th>std</th>\n",
              "      <td>250.044839</td>\n",
              "      <td>255.863239</td>\n",
              "      <td>243.774157</td>\n",
              "      <td>250.123115</td>\n",
              "      <td>250.123115</td>\n",
              "      <td>2.798383e+07</td>\n",
              "    </tr>\n",
              "    <tr>\n",
              "      <th>min</th>\n",
              "      <td>3.228000</td>\n",
              "      <td>3.326000</td>\n",
              "      <td>2.996000</td>\n",
              "      <td>3.160000</td>\n",
              "      <td>3.160000</td>\n",
              "      <td>5.925000e+05</td>\n",
              "    </tr>\n",
              "    <tr>\n",
              "      <th>25%</th>\n",
              "      <td>19.627000</td>\n",
              "      <td>20.402000</td>\n",
              "      <td>19.127500</td>\n",
              "      <td>19.615000</td>\n",
              "      <td>19.615000</td>\n",
              "      <td>1.310288e+07</td>\n",
              "    </tr>\n",
              "    <tr>\n",
              "      <th>50%</th>\n",
              "      <td>46.656999</td>\n",
              "      <td>47.487001</td>\n",
              "      <td>45.820002</td>\n",
              "      <td>46.545000</td>\n",
              "      <td>46.545000</td>\n",
              "      <td>2.488680e+07</td>\n",
              "    </tr>\n",
              "    <tr>\n",
              "      <th>75%</th>\n",
              "      <td>68.057001</td>\n",
              "      <td>69.357500</td>\n",
              "      <td>66.911501</td>\n",
              "      <td>68.103998</td>\n",
              "      <td>68.103998</td>\n",
              "      <td>3.973875e+07</td>\n",
              "    </tr>\n",
              "    <tr>\n",
              "      <th>max</th>\n",
              "      <td>1234.410034</td>\n",
              "      <td>1243.489990</td>\n",
              "      <td>1217.000000</td>\n",
              "      <td>1229.910034</td>\n",
              "      <td>1229.910034</td>\n",
              "      <td>3.046940e+08</td>\n",
              "    </tr>\n",
              "  </tbody>\n",
              "</table>\n",
              "</div>"
            ],
            "text/plain": [
              "              Open         High          Low        Close    Adj Close  \\\n",
              "count  2956.000000  2956.000000  2956.000000  2956.000000  2956.000000   \n",
              "mean    138.691296   141.771603   135.425953   138.762183   138.762183   \n",
              "std     250.044839   255.863239   243.774157   250.123115   250.123115   \n",
              "min       3.228000     3.326000     2.996000     3.160000     3.160000   \n",
              "25%      19.627000    20.402000    19.127500    19.615000    19.615000   \n",
              "50%      46.656999    47.487001    45.820002    46.545000    46.545000   \n",
              "75%      68.057001    69.357500    66.911501    68.103998    68.103998   \n",
              "max    1234.410034  1243.489990  1217.000000  1229.910034  1229.910034   \n",
              "\n",
              "             Volume  \n",
              "count  2.956000e+03  \n",
              "mean   3.131449e+07  \n",
              "std    2.798383e+07  \n",
              "min    5.925000e+05  \n",
              "25%    1.310288e+07  \n",
              "50%    2.488680e+07  \n",
              "75%    3.973875e+07  \n",
              "max    3.046940e+08  "
            ]
          },
          "execution_count": 8,
          "metadata": {},
          "output_type": "execute_result"
        }
      ],
      "source": [
        "dataset.describe()"
      ]
    },
    {
      "cell_type": "code",
      "execution_count": 9,
      "id": "0a8b5e09-6232-412a-b9fa-1f3e18f01887",
      "metadata": {
        "colab": {
          "base_uri": "https://localhost:8080/"
        },
        "id": "0a8b5e09-6232-412a-b9fa-1f3e18f01887",
        "outputId": "ed62f259-290c-4386-8418-0730a572296d"
      },
      "outputs": [
        {
          "name": "stdout",
          "output_type": "stream",
          "text": [
            "<class 'pandas.core.frame.DataFrame'>\n",
            "RangeIndex: 2956 entries, 0 to 2955\n",
            "Data columns (total 7 columns):\n",
            " #   Column     Non-Null Count  Dtype  \n",
            "---  ------     --------------  -----  \n",
            " 0   Date       2956 non-null   object \n",
            " 1   Open       2956 non-null   float64\n",
            " 2   High       2956 non-null   float64\n",
            " 3   Low        2956 non-null   float64\n",
            " 4   Close      2956 non-null   float64\n",
            " 5   Adj Close  2956 non-null   float64\n",
            " 6   Volume     2956 non-null   int64  \n",
            "dtypes: float64(5), int64(1), object(1)\n",
            "memory usage: 161.8+ KB\n"
          ]
        }
      ],
      "source": [
        "dataset.info()"
      ]
    },
    {
      "cell_type": "code",
      "execution_count": 10,
      "id": "e4b7b8ce-9cb2-4cd8-87de-3935ba7114c6",
      "metadata": {
        "colab": {
          "base_uri": "https://localhost:8080/",
          "height": 179
        },
        "id": "e4b7b8ce-9cb2-4cd8-87de-3935ba7114c6",
        "outputId": "8648d804-0de5-4bab-fdd4-791c68b3eab9"
      },
      "outputs": [
        {
          "data": {
            "text/html": [
              "<div>\n",
              "<style scoped>\n",
              "    .dataframe tbody tr th:only-of-type {\n",
              "        vertical-align: middle;\n",
              "    }\n",
              "\n",
              "    .dataframe tbody tr th {\n",
              "        vertical-align: top;\n",
              "    }\n",
              "\n",
              "    .dataframe thead th {\n",
              "        text-align: right;\n",
              "    }\n",
              "</style>\n",
              "<table border=\"1\" class=\"dataframe\">\n",
              "  <thead>\n",
              "    <tr style=\"text-align: right;\">\n",
              "      <th></th>\n",
              "      <th>Date</th>\n",
              "      <th>Open</th>\n",
              "      <th>High</th>\n",
              "      <th>Low</th>\n",
              "      <th>Close</th>\n",
              "      <th>Adj Close</th>\n",
              "      <th>Volume</th>\n",
              "    </tr>\n",
              "  </thead>\n",
              "  <tbody>\n",
              "    <tr>\n",
              "      <th>0</th>\n",
              "      <td>2010-06-29</td>\n",
              "      <td>3.800</td>\n",
              "      <td>5.000</td>\n",
              "      <td>3.508</td>\n",
              "      <td>4.778</td>\n",
              "      <td>4.778</td>\n",
              "      <td>93831500</td>\n",
              "    </tr>\n",
              "    <tr>\n",
              "      <th>1</th>\n",
              "      <td>2010-06-30</td>\n",
              "      <td>5.158</td>\n",
              "      <td>6.084</td>\n",
              "      <td>4.660</td>\n",
              "      <td>4.766</td>\n",
              "      <td>4.766</td>\n",
              "      <td>85935500</td>\n",
              "    </tr>\n",
              "    <tr>\n",
              "      <th>2</th>\n",
              "      <td>2010-07-01</td>\n",
              "      <td>5.000</td>\n",
              "      <td>5.184</td>\n",
              "      <td>4.054</td>\n",
              "      <td>4.392</td>\n",
              "      <td>4.392</td>\n",
              "      <td>41094000</td>\n",
              "    </tr>\n",
              "    <tr>\n",
              "      <th>3</th>\n",
              "      <td>2010-07-02</td>\n",
              "      <td>4.600</td>\n",
              "      <td>4.620</td>\n",
              "      <td>3.742</td>\n",
              "      <td>3.840</td>\n",
              "      <td>3.840</td>\n",
              "      <td>25699000</td>\n",
              "    </tr>\n",
              "    <tr>\n",
              "      <th>4</th>\n",
              "      <td>2010-07-06</td>\n",
              "      <td>4.000</td>\n",
              "      <td>4.000</td>\n",
              "      <td>3.166</td>\n",
              "      <td>3.222</td>\n",
              "      <td>3.222</td>\n",
              "      <td>34334500</td>\n",
              "    </tr>\n",
              "  </tbody>\n",
              "</table>\n",
              "</div>"
            ],
            "text/plain": [
              "         Date   Open   High    Low  Close  Adj Close    Volume\n",
              "0  2010-06-29  3.800  5.000  3.508  4.778      4.778  93831500\n",
              "1  2010-06-30  5.158  6.084  4.660  4.766      4.766  85935500\n",
              "2  2010-07-01  5.000  5.184  4.054  4.392      4.392  41094000\n",
              "3  2010-07-02  4.600  4.620  3.742  3.840      3.840  25699000\n",
              "4  2010-07-06  4.000  4.000  3.166  3.222      3.222  34334500"
            ]
          },
          "execution_count": 10,
          "metadata": {},
          "output_type": "execute_result"
        }
      ],
      "source": [
        "dataset.head()"
      ]
    },
    {
      "cell_type": "code",
      "execution_count": 11,
      "id": "a6e12fcd-d21c-4707-8ca2-f223918b26d3",
      "metadata": {
        "colab": {
          "base_uri": "https://localhost:8080/"
        },
        "id": "a6e12fcd-d21c-4707-8ca2-f223918b26d3",
        "outputId": "ef775400-c864-465d-8997-3347a8a4ea49"
      },
      "outputs": [
        {
          "data": {
            "text/plain": [
              "array([[4.21744904e-04],\n",
              "       [1.37067094e-03],\n",
              "       [8.71496305e-04],\n",
              "       ...,\n",
              "       [7.56796518e-01],\n",
              "       [8.01812864e-01],\n",
              "       [8.12026969e-01]])"
            ]
          },
          "execution_count": 11,
          "metadata": {},
          "output_type": "execute_result"
        }
      ],
      "source": [
        "#scale values to range 0-1\n",
        "trainset = dataset.iloc[:, 3:4].values\n",
        "scaler = MinMaxScaler(feature_range = (0,1))\n",
        "data_scaled = scaler.fit_transform(trainset)\n",
        "data_scaled"
      ]
    },
    {
      "cell_type": "code",
      "execution_count": 12,
      "id": "5f7b1074-cd12-427f-a649-e9526051b35e",
      "metadata": {
        "id": "5f7b1074-cd12-427f-a649-e9526051b35e"
      },
      "outputs": [],
      "source": [
        "# split dataset to train and test sets\n",
        "x_train, y_train = [], []\n",
        "x_test, y_test = [], []\n",
        "\n",
        "window = 70\n",
        "\n",
        "# Training set\n",
        "for i in range(window, len(data_scaled)):\n",
        "    x_train.append(data_scaled[i - window:i, 0])\n",
        "    y_train.append(data_scaled[i, 0])\n",
        "\n",
        "# Testing set\n",
        "for i in range(len(data_scaled) - window, len(data_scaled)):\n",
        "    x_test.append(data_scaled[i - window:i, 0])\n",
        "    y_test.append(data_scaled[i, 0])\n",
        "\n",
        "# Convert lists to numpy arrays\n",
        "x_train, y_train = np.array(x_train), np.array(y_train)\n",
        "x_test, y_test = np.array(x_test), np.array(y_test)\n"
      ]
    },
    {
      "cell_type": "code",
      "execution_count": 13,
      "id": "19bbc8e4-cb3d-4350-a48a-edcf6c3bd474",
      "metadata": {
        "colab": {
          "base_uri": "https://localhost:8080/",
          "height": 197
        },
        "id": "19bbc8e4-cb3d-4350-a48a-edcf6c3bd474",
        "outputId": "ef4b70f4-ffa9-47e9-89f6-bb1965cf0b45"
      },
      "outputs": [],
      "source": [
        "x_train = np.reshape(x_train, (x_train.shape[0], x_train.shape[1],1))\n",
        "x_test = np.reshape(x_test, (x_test.shape[0], x_test.shape[1],1))"
      ]
    },
    {
      "cell_type": "code",
      "execution_count": 14,
      "id": "216996d6-aaae-4e5d-9355-60f5172ce4f7",
      "metadata": {
        "colab": {
          "base_uri": "https://localhost:8080/",
          "height": 251
        },
        "id": "216996d6-aaae-4e5d-9355-60f5172ce4f7",
        "outputId": "d88985be-5b1d-4887-c334-6aebbbbf3dea"
      },
      "outputs": [],
      "source": [
        "#build LSTM neural network model\n",
        "regressor = Sequential()\n",
        "regressor.add(LSTM(units = 50,return_sequences = True,input_shape = (x_train.shape[1],1)))\n",
        "regressor.add(Dropout(0.2))\n",
        "regressor.add(LSTM(units = 50,return_sequences = True))\n",
        "regressor.add(Dropout(0.2))\n",
        "regressor.add(LSTM(units = 50,return_sequences = True))\n",
        "regressor.add(Dropout(0.2))\n",
        "regressor.add(LSTM(units = 50))\n",
        "regressor.add(Dropout(0.2))\n",
        "regressor.add(Dense(units = 1))\n",
        "regressor.compile(optimizer = 'adam',loss = 'mean_squared_error')"
      ]
    },
    {
      "cell_type": "code",
      "execution_count": 15,
      "id": "01d5006d-c069-4714-b52e-70f7cd377dc1",
      "metadata": {
        "colab": {
          "base_uri": "https://localhost:8080/"
        },
        "id": "01d5006d-c069-4714-b52e-70f7cd377dc1",
        "outputId": "e8ae5bf6-c437-447d-ba39-f2ac9daeddb7"
      },
      "outputs": [
        {
          "name": "stdout",
          "output_type": "stream",
          "text": [
            "Epoch 1/30\n",
            "91/91 [==============================] - 6s 44ms/step - loss: 0.0064\n",
            "Epoch 2/30\n",
            "91/91 [==============================] - 4s 47ms/step - loss: 0.0015\n",
            "Epoch 3/30\n",
            "91/91 [==============================] - 4s 47ms/step - loss: 0.0014\n",
            "Epoch 4/30\n",
            "91/91 [==============================] - 4s 47ms/step - loss: 0.0016\n",
            "Epoch 5/30\n",
            "91/91 [==============================] - 4s 47ms/step - loss: 0.0014\n",
            "Epoch 6/30\n",
            "91/91 [==============================] - 4s 47ms/step - loss: 0.0015\n",
            "Epoch 7/30\n",
            "91/91 [==============================] - 4s 47ms/step - loss: 0.0011\n",
            "Epoch 8/30\n",
            "91/91 [==============================] - 4s 47ms/step - loss: 0.0012\n",
            "Epoch 9/30\n",
            "91/91 [==============================] - 4s 48ms/step - loss: 0.0011\n",
            "Epoch 10/30\n",
            "91/91 [==============================] - 4s 49ms/step - loss: 0.0012\n",
            "Epoch 11/30\n",
            "91/91 [==============================] - 4s 48ms/step - loss: 0.0010\n",
            "Epoch 12/30\n",
            "91/91 [==============================] - 4s 48ms/step - loss: 0.0011\n",
            "Epoch 13/30\n",
            "91/91 [==============================] - 4s 47ms/step - loss: 9.9838e-04\n",
            "Epoch 14/30\n",
            "91/91 [==============================] - 4s 49ms/step - loss: 0.0012\n",
            "Epoch 15/30\n",
            "91/91 [==============================] - 4s 47ms/step - loss: 8.9796e-04\n",
            "Epoch 16/30\n",
            "91/91 [==============================] - 4s 47ms/step - loss: 0.0010\n",
            "Epoch 17/30\n",
            "91/91 [==============================] - 4s 46ms/step - loss: 9.2200e-04\n",
            "Epoch 18/30\n",
            "91/91 [==============================] - 4s 46ms/step - loss: 8.7069e-04\n",
            "Epoch 19/30\n",
            "91/91 [==============================] - 4s 46ms/step - loss: 0.0010\n",
            "Epoch 20/30\n",
            "91/91 [==============================] - 4s 46ms/step - loss: 9.7427e-04\n",
            "Epoch 21/30\n",
            "91/91 [==============================] - 4s 46ms/step - loss: 9.4127e-04\n",
            "Epoch 22/30\n",
            "91/91 [==============================] - 4s 47ms/step - loss: 8.4300e-04\n",
            "Epoch 23/30\n",
            "91/91 [==============================] - 4s 48ms/step - loss: 7.5972e-04\n",
            "Epoch 24/30\n",
            "91/91 [==============================] - 4s 48ms/step - loss: 6.8103e-04\n",
            "Epoch 25/30\n",
            "91/91 [==============================] - 4s 49ms/step - loss: 7.2310e-04\n",
            "Epoch 26/30\n",
            "91/91 [==============================] - 4s 49ms/step - loss: 8.5600e-04\n",
            "Epoch 27/30\n",
            "91/91 [==============================] - 4s 49ms/step - loss: 8.5884e-04\n",
            "Epoch 28/30\n",
            "91/91 [==============================] - 4s 47ms/step - loss: 6.9705e-04\n",
            "Epoch 29/30\n",
            "91/91 [==============================] - 4s 48ms/step - loss: 8.1450e-04\n",
            "Epoch 30/30\n",
            "91/91 [==============================] - 4s 47ms/step - loss: 6.4850e-04\n"
          ]
        },
        {
          "data": {
            "text/plain": [
              "<keras.src.callbacks.History at 0x2932e0f50>"
            ]
          },
          "execution_count": 15,
          "metadata": {},
          "output_type": "execute_result"
        }
      ],
      "source": [
        "#train model\n",
        "regressor.fit(x_train, y_train,epochs = 30, batch_size = 32)"
      ]
    },
    {
      "cell_type": "code",
      "execution_count": 16,
      "id": "6af796a3-c2d4-460d-a184-025c9ee344b2",
      "metadata": {
        "colab": {
          "base_uri": "https://localhost:8080/"
        },
        "id": "6af796a3-c2d4-460d-a184-025c9ee344b2",
        "outputId": "c2461860-2188-4f8d-e2f0-3ebd8dd7fd89"
      },
      "outputs": [
        {
          "name": "stdout",
          "output_type": "stream",
          "text": [
            "3/3 [==============================] - 1s 9ms/step\n"
          ]
        },
        {
          "data": {
            "text/plain": [
              "array([[ 990.61633],\n",
              "       [ 982.12   ],\n",
              "       [ 971.28143],\n",
              "       [ 959.3944 ],\n",
              "       [ 947.38715],\n",
              "       [ 935.53455],\n",
              "       [ 924.2547 ],\n",
              "       [ 918.9676 ],\n",
              "       [ 923.8924 ],\n",
              "       [ 943.15405],\n",
              "       [ 973.7963 ],\n",
              "       [1007.1113 ],\n",
              "       [1034.4445 ],\n",
              "       [1051.7421 ],\n",
              "       [1065.0918 ],\n",
              "       [1076.0311 ],\n",
              "       [1081.5968 ],\n",
              "       [1077.13   ],\n",
              "       [1063.4855 ],\n",
              "       [1042.836  ],\n",
              "       [1023.7184 ],\n",
              "       [1013.26514],\n",
              "       [1009.9712 ],\n",
              "       [1010.3693 ],\n",
              "       [1012.0508 ],\n",
              "       [1012.1395 ],\n",
              "       [1009.9116 ],\n",
              "       [1002.3231 ],\n",
              "       [ 984.40845],\n",
              "       [ 961.66656],\n",
              "       [ 939.62335],\n",
              "       [ 917.33203],\n",
              "       [ 893.5473 ],\n",
              "       [ 873.81006],\n",
              "       [ 863.8934 ],\n",
              "       [ 863.9148 ],\n",
              "       [ 870.5237 ],\n",
              "       [ 879.77405],\n",
              "       [ 889.90405],\n",
              "       [ 898.7246 ],\n",
              "       [ 906.64307],\n",
              "       [ 911.97156],\n",
              "       [ 911.1288 ],\n",
              "       [ 904.3641 ],\n",
              "       [ 896.4692 ],\n",
              "       [ 891.05304],\n",
              "       [ 887.6708 ],\n",
              "       [ 883.2701 ],\n",
              "       [ 874.65625],\n",
              "       [ 859.6966 ],\n",
              "       [ 836.67395],\n",
              "       [ 813.0495 ],\n",
              "       [ 796.06104],\n",
              "       [ 791.14276],\n",
              "       [ 797.70135],\n",
              "       [ 810.9887 ],\n",
              "       [ 825.3474 ],\n",
              "       [ 835.5687 ],\n",
              "       [ 838.4015 ],\n",
              "       [ 837.3832 ],\n",
              "       [ 834.0757 ],\n",
              "       [ 828.8667 ],\n",
              "       [ 820.3247 ],\n",
              "       [ 809.11475],\n",
              "       [ 799.6868 ],\n",
              "       [ 795.90643],\n",
              "       [ 801.10925],\n",
              "       [ 816.92114],\n",
              "       [ 841.24255],\n",
              "       [ 872.692  ]], dtype=float32)"
            ]
          },
          "execution_count": 16,
          "metadata": {},
          "output_type": "execute_result"
        }
      ],
      "source": [
        "#generate prices for test data\n",
        "predicted_price = regressor.predict(x_test)\n",
        "predicted_price = scaler.inverse_transform(predicted_price)\n",
        "predicted_price"
      ]
    },
    {
      "cell_type": "code",
      "execution_count": 17,
      "id": "4a254b54-1d04-440b-993c-6c1f51b13b40",
      "metadata": {
        "colab": {
          "base_uri": "https://localhost:8080/",
          "height": 215
        },
        "id": "4a254b54-1d04-440b-993c-6c1f51b13b40",
        "outputId": "e00dfdc5-a737-4c9f-c7cf-be22ec2bd142"
      },
      "outputs": [
        {
          "data": {
            "text/plain": [
              "array([[ 930.      ],\n",
              "       [ 928.25    ],\n",
              "       [ 921.849976],\n",
              "       [ 909.039978],\n",
              "       [ 893.390015],\n",
              "       [ 886.119995],\n",
              "       [ 957.049988],\n",
              "       [ 997.559998],\n",
              "       [1070.719971],\n",
              "       [1078.420044],\n",
              "       [1064.140015],\n",
              "       [1053.150024],\n",
              "       [1054.589966],\n",
              "       [1136.040039],\n",
              "       [1123.050049],\n",
              "       [1081.01001 ],\n",
              "       [1020.5     ],\n",
              "       [1010.      ],\n",
              "       [ 980.      ],\n",
              "       [1038.819946],\n",
              "       [1072.589966],\n",
              "       [1026.540039],\n",
              "       [1013.380005],\n",
              "       [1016.059998],\n",
              "       [ 995.      ],\n",
              "       [ 994.      ],\n",
              "       [ 940.5     ],\n",
              "       [ 851.469971],\n",
              "       [ 903.210022],\n",
              "       [ 906.      ],\n",
              "       [ 829.      ],\n",
              "       [ 792.01001 ],\n",
              "       [ 862.049988],\n",
              "       [ 905.      ],\n",
              "       [ 889.409973],\n",
              "       [ 880.52002 ],\n",
              "       [ 881.169983],\n",
              "       [ 902.710022],\n",
              "       [ 894.799988],\n",
              "       [ 920.      ],\n",
              "       [ 896.700012],\n",
              "       [ 850.700012],\n",
              "       [ 853.150024],\n",
              "       [ 893.380005],\n",
              "       [ 901.210022],\n",
              "       [ 874.099976],\n",
              "       [ 837.609985],\n",
              "       [ 801.099976],\n",
              "       [ 760.559998],\n",
              "       [ 700.      ],\n",
              "       [ 782.400024],\n",
              "       [ 814.710022],\n",
              "       [ 853.780029],\n",
              "       [ 844.27002 ],\n",
              "       [ 832.599976],\n",
              "       [ 825.159973],\n",
              "       [ 804.570007],\n",
              "       [ 782.169983],\n",
              "       [ 832.01001 ],\n",
              "       [ 810.359985],\n",
              "       [ 793.77002 ],\n",
              "       [ 756.039978],\n",
              "       [ 756.570007],\n",
              "       [ 802.26001 ],\n",
              "       [ 825.719971],\n",
              "       [ 867.390015],\n",
              "       [ 907.090027],\n",
              "       [ 921.75    ],\n",
              "       [ 976.400024],\n",
              "       [ 988.799988]])"
            ]
          },
          "execution_count": 17,
          "metadata": {},
          "output_type": "execute_result"
        }
      ],
      "source": [
        "#get real price for comparison\n",
        "real_price =  scaler.inverse_transform(y_test.reshape(-1, 1))\n",
        "real_price"
      ]
    },
    {
      "cell_type": "code",
      "execution_count": 18,
      "id": "dbce1452-f7a1-4311-ad92-0488a0089300",
      "metadata": {
        "colab": {
          "base_uri": "https://localhost:8080/",
          "height": 251
        },
        "id": "dbce1452-f7a1-4311-ad92-0488a0089300",
        "outputId": "5f8f0ec1-ed27-4374-c019-0dca42446702"
      },
      "outputs": [
        {
          "data": {
            "image/png": "[encoded data removed]",
            "text/plain": [
              "<Figure size 640x480 with 1 Axes>"
            ]
          },
          "metadata": {},
          "output_type": "display_data"
        }
      ],
      "source": [
        "#plot predicted and real price\n",
        "plt.plot(real_price, color = 'orange', label = 'real price')\n",
        "plt.plot(predicted_price, color = 'green', label = 'predicted price')\n",
        "plt.title('Google stock price prediction')\n",
        "plt.xlabel('time')\n",
        "plt.ylabel('stock price')\n",
        "plt.legend()\n",
        "plt.show()"
      ]
    },
    {
      "cell_type": "code",
      "execution_count": 19,
      "id": "52bb9c88-73cd-4dd0-a764-4044b23c061d",
      "metadata": {
        "colab": {
          "base_uri": "https://localhost:8080/"
        },
        "id": "52bb9c88-73cd-4dd0-a764-4044b23c061d",
        "outputId": "422de8b3-4b50-40c0-f471-d23967b7d0fc"
      },
      "outputs": [
        {
          "name": "stdout",
          "output_type": "stream",
          "text": [
            "RMSE 66.93980254921908\n",
            "MAE 53.27715371160714\n"
          ]
        }
      ],
      "source": [
        "#metrics\n",
        "print(f'RMSE {metrics.mean_squared_error(predicted_price, real_price, squared=False)}')\n",
        "print(f'MAE {metrics.mean_absolute_error(predicted_price, real_price)}')"
      ]
    }
  ],
  "metadata": {
    "colab": {
      "provenance": []
    },
    "kernelspec": {
      "display_name": "Python 3 (ipykernel)",
      "language": "python",
      "name": "python3"
    },
    "language_info": {
      "codemirror_mode": {
        "name": "ipython",
        "version": 3
      },
      "file_extension": ".py",
      "mimetype": "text/x-python",
      "name": "python",
      "nbconvert_exporter": "python",
      "pygments_lexer": "ipython3",
      "version": "3.11.4"
    }
  },
  "nbformat": 4,
  "nbformat_minor": 5
}
