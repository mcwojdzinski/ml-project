{
  "cells": [
    {
      "cell_type": "markdown",
      "metadata": {},
      "source": [
        "# Machine learning project"
      ]
    },
    {
      "cell_type": "markdown",
      "metadata": {},
      "source": [
        "Authors:\n",
        "* Mateusz Cwojdziński\n",
        "* Bogusz Krzyżanowski\n",
        "* Kamil Golec"
      ]
    },
    {
      "cell_type": "markdown",
      "metadata": {},
      "source": [
        "### Import stockPricePredictor object with its functions"
      ]
    },
    {
      "cell_type": "code",
      "execution_count": 33,
      "id": "0bf1766d-11ac-405d-8304-781b1021e10f",
      "metadata": {
        "id": "0bf1766d-11ac-405d-8304-781b1021e10f"
      },
      "outputs": [],
      "source": [
        "from stockPricePredictor import StockPricePredictor\n"
      ]
    },
    {
      "cell_type": "markdown",
      "metadata": {},
      "source": [
        "### Set a file_path variable to download the dataset"
      ]
    },
    {
      "cell_type": "code",
      "execution_count": 34,
      "metadata": {},
      "outputs": [],
      "source": [
        "file_path = \"datasets/TSLA.csv\""
      ]
    },
    {
      "cell_type": "markdown",
      "metadata": {},
      "source": [
        "### Initiate the stock predicator object by passing a file_path to it."
      ]
    },
    {
      "cell_type": "code",
      "execution_count": 39,
      "metadata": {},
      "outputs": [
        {
          "data": {
            "text/plain": [
              "<stockPricePredictor.StockPricePredictor at 0x151d2cb90>"
            ]
          },
          "execution_count": 39,
          "metadata": {},
          "output_type": "execute_result"
        }
      ],
      "source": [
        "predictor = StockPricePredictor(file_path)\n",
        "predictor"
      ]
    },
    {
      "cell_type": "markdown",
      "metadata": {},
      "source": [
        "### Preprocess the given data for the predicator"
      ]
    },
    {
      "cell_type": "code",
      "execution_count": 40,
      "metadata": {},
      "outputs": [
        {
          "data": {
            "text/plain": [
              "<stockPricePredictor.StockPricePredictor at 0x151d2cb90>"
            ]
          },
          "execution_count": 40,
          "metadata": {},
          "output_type": "execute_result"
        }
      ],
      "source": [
        "predictor.preprocess_data()"
      ]
    },
    {
      "cell_type": "markdown",
      "metadata": {},
      "source": [
        "### Set the train and test data for the predicator\n",
        "\n",
        "function ``` prepare_data() ``` contains values and 2 for loops to divide data for test and training model. \n",
        "\n",
        "The whole function prepare_data returns 4 values:\n",
        "* x_train\n",
        "* y_train\n",
        "* x_test\n",
        "* y_test"
      ]
    },
    {
      "cell_type": "code",
      "execution_count": 37,
      "metadata": {},
      "outputs": [
        {
          "data": {
            "text/plain": [
              "(array([[[4.21744904e-04],\n",
              "         [1.37067094e-03],\n",
              "         [8.71496305e-04],\n",
              "         ...,\n",
              "         [8.76438628e-04],\n",
              "         [9.93406941e-04],\n",
              "         [8.79733510e-04]],\n",
              " \n",
              "        [[1.37067094e-03],\n",
              "         [8.71496305e-04],\n",
              "         [6.14495504e-04],\n",
              "         ...,\n",
              "         [9.93406941e-04],\n",
              "         [8.79733510e-04],\n",
              "         [8.83028392e-04]],\n",
              " \n",
              "        [[8.71496305e-04],\n",
              "         [6.14495504e-04],\n",
              "         [1.40032488e-04],\n",
              "         ...,\n",
              "         [8.79733510e-04],\n",
              "         [8.83028392e-04],\n",
              "         [8.91265597e-04]],\n",
              " \n",
              "        ...,\n",
              " \n",
              "        [[8.23196616e-01],\n",
              "         [8.06862275e-01],\n",
              "         [7.81236292e-01],\n",
              "         ...,\n",
              "         [6.77694613e-01],\n",
              "         [7.12019083e-01],\n",
              "         [7.44720797e-01]],\n",
              " \n",
              "        [[8.06862275e-01],\n",
              "         [7.81236292e-01],\n",
              "         [7.63592212e-01],\n",
              "         ...,\n",
              "         [7.12019083e-01],\n",
              "         [7.44720797e-01],\n",
              "         [7.56796518e-01]],\n",
              " \n",
              "        [[7.81236292e-01],\n",
              "         [7.63592212e-01],\n",
              "         [7.62150701e-01],\n",
              "         ...,\n",
              "         [7.44720797e-01],\n",
              "         [7.56796518e-01],\n",
              "         [8.01812864e-01]]]),\n",
              " array([0.00088303, 0.00089127, 0.00083855, ..., 0.75679652, 0.80181286,\n",
              "        0.81202697]),\n",
              " array([[[0.59407054],\n",
              "         [0.60647577],\n",
              "         [0.6077196 ],\n",
              "         ...,\n",
              "         [0.82319662],\n",
              "         [0.80686227],\n",
              "         [0.78123629]],\n",
              " \n",
              "        [[0.60647577],\n",
              "         [0.6077196 ],\n",
              "         [0.61666519],\n",
              "         ...,\n",
              "         [0.80686227],\n",
              "         [0.78123629],\n",
              "         [0.76359221]],\n",
              " \n",
              "        [[0.6077196 ],\n",
              "         [0.61666519],\n",
              "         [0.60257134],\n",
              "         ...,\n",
              "         [0.78123629],\n",
              "         [0.76359221],\n",
              "         [0.7621507 ]],\n",
              " \n",
              "        ...,\n",
              " \n",
              "        [[0.82319662],\n",
              "         [0.80686227],\n",
              "         [0.78123629],\n",
              "         ...,\n",
              "         [0.67769461],\n",
              "         [0.71201908],\n",
              "         [0.7447208 ]],\n",
              " \n",
              "        [[0.80686227],\n",
              "         [0.78123629],\n",
              "         [0.76359221],\n",
              "         ...,\n",
              "         [0.71201908],\n",
              "         [0.7447208 ],\n",
              "         [0.75679652]],\n",
              " \n",
              "        [[0.78123629],\n",
              "         [0.76359221],\n",
              "         [0.7621507 ],\n",
              "         ...,\n",
              "         [0.7447208 ],\n",
              "         [0.75679652],\n",
              "         [0.80181286]]]),\n",
              " array([0.76359221, 0.7621507 , 0.75687887, 0.74632701, 0.73343582,\n",
              "        0.72744735, 0.78587384, 0.81924277, 0.87950614, 0.88584885,\n",
              "        0.87408609, 0.86503341, 0.86621952, 0.93331162, 0.9226115 ,\n",
              "        0.88798226, 0.83813892, 0.82948985, 0.80477824, 0.85322943,\n",
              "        0.88104649, 0.84311422, 0.83227403, 0.8344816 , 0.81713405,\n",
              "        0.81631033, 0.77224128, 0.69890542, 0.74152476, 0.74382292,\n",
              "        0.68039644, 0.64992703, 0.70762039, 0.7429992 , 0.73015737,\n",
              "        0.72283454, 0.72336993, 0.7411129 , 0.73459724, 0.75535501,\n",
              "        0.73616233, 0.69827119, 0.70028931, 0.73342757, 0.73987732,\n",
              "        0.71754622, 0.68748866, 0.65741462, 0.62402101, 0.57413649,\n",
              "        0.64201108, 0.66862549, 0.70080826, 0.69297467, 0.68336181,\n",
              "        0.67723333, 0.66027295, 0.64182159, 0.68287585, 0.66504228,\n",
              "        0.65137678, 0.62029777, 0.62073437, 0.65837016, 0.67769461,\n",
              "        0.71201908, 0.7447208 , 0.75679652, 0.80181286, 0.81202697]))"
            ]
          },
          "execution_count": 37,
          "metadata": {},
          "output_type": "execute_result"
        }
      ],
      "source": [
        "x_train, y_train, x_test, y_test = predictor.prepare_data()\n",
        "x_train, y_train, x_test, y_test"
      ]
    },
    {
      "cell_type": "markdown",
      "metadata": {},
      "source": [
        "### Model training\n",
        "\n",
        "``` train_model() ``` function takes 2 values as an arguments x_train and y_train to build a training model."
      ]
    },
    {
      "cell_type": "code",
      "execution_count": 32,
      "metadata": {},
      "outputs": [
        {
          "name": "stdout",
          "output_type": "stream",
          "text": [
            "Epoch 1/30\n",
            "91/91 [==============================] - 7s 51ms/step - loss: 0.0039\n",
            "Epoch 2/30\n",
            "91/91 [==============================] - 5s 51ms/step - loss: 0.0019\n",
            "Epoch 3/30\n",
            "91/91 [==============================] - 5s 52ms/step - loss: 0.0014\n",
            "Epoch 4/30\n",
            "91/91 [==============================] - 5s 52ms/step - loss: 0.0015\n",
            "Epoch 5/30\n",
            "91/91 [==============================] - 5s 52ms/step - loss: 0.0017\n",
            "Epoch 6/30\n",
            "91/91 [==============================] - 5s 52ms/step - loss: 0.0012\n",
            "Epoch 7/30\n",
            "91/91 [==============================] - 5s 52ms/step - loss: 0.0011\n",
            "Epoch 8/30\n",
            "91/91 [==============================] - 5s 52ms/step - loss: 0.0010\n",
            "Epoch 9/30\n",
            "91/91 [==============================] - 5s 52ms/step - loss: 0.0010\n",
            "Epoch 10/30\n",
            "91/91 [==============================] - 5s 52ms/step - loss: 0.0010\n",
            "Epoch 11/30\n",
            "91/91 [==============================] - 5s 52ms/step - loss: 9.1335e-04\n",
            "Epoch 12/30\n",
            "91/91 [==============================] - 5s 52ms/step - loss: 9.4911e-04\n",
            "Epoch 13/30\n",
            "91/91 [==============================] - 5s 54ms/step - loss: 0.0012\n",
            "Epoch 14/30\n",
            "91/91 [==============================] - 5s 51ms/step - loss: 8.2570e-04\n",
            "Epoch 15/30\n",
            "91/91 [==============================] - 5s 51ms/step - loss: 9.1117e-04\n",
            "Epoch 16/30\n",
            "91/91 [==============================] - 5s 53ms/step - loss: 8.2117e-04\n",
            "Epoch 17/30\n",
            "91/91 [==============================] - 5s 52ms/step - loss: 8.7603e-04\n",
            "Epoch 18/30\n",
            "91/91 [==============================] - 5s 52ms/step - loss: 7.9820e-04\n",
            "Epoch 19/30\n",
            "91/91 [==============================] - 5s 52ms/step - loss: 0.0011\n",
            "Epoch 20/30\n",
            "91/91 [==============================] - 5s 52ms/step - loss: 8.3016e-04\n",
            "Epoch 21/30\n",
            "91/91 [==============================] - 5s 52ms/step - loss: 7.7449e-04\n",
            "Epoch 22/30\n",
            "91/91 [==============================] - 5s 52ms/step - loss: 8.4777e-04\n",
            "Epoch 23/30\n",
            "91/91 [==============================] - 5s 52ms/step - loss: 9.0351e-04\n",
            "Epoch 24/30\n",
            "91/91 [==============================] - 5s 52ms/step - loss: 8.0989e-04\n",
            "Epoch 25/30\n",
            "91/91 [==============================] - 5s 51ms/step - loss: 7.9011e-04\n",
            "Epoch 26/30\n",
            "91/91 [==============================] - 5s 50ms/step - loss: 7.8091e-04\n",
            "Epoch 27/30\n",
            "91/91 [==============================] - 5s 50ms/step - loss: 8.5593e-04\n",
            "Epoch 28/30\n",
            "91/91 [==============================] - 5s 52ms/step - loss: 9.9085e-04\n",
            "Epoch 29/30\n",
            "91/91 [==============================] - 5s 51ms/step - loss: 6.6866e-04\n",
            "Epoch 30/30\n",
            "91/91 [==============================] - 5s 50ms/step - loss: 6.4085e-04\n"
          ]
        }
      ],
      "source": [
        "predictor.train_model(x_train, y_train)"
      ]
    },
    {
      "cell_type": "markdown",
      "metadata": {},
      "source": [
        "### Store predicted_price\n",
        "\n",
        "Store predicted_price based on ```predict_prices()``` function which inside of this uses predicted model on x_test value. The returning value than is passed through ``` scaler.inverse_transform ```"
      ]
    },
    {
      "cell_type": "code",
      "execution_count": 38,
      "metadata": {},
      "outputs": [
        {
          "name": "stdout",
          "output_type": "stream",
          "text": [
            "3/3 [==============================] - 1s 10ms/step\n"
          ]
        },
        {
          "data": {
            "text/plain": [
              "array([[47.573093],\n",
              "       [47.44762 ],\n",
              "       [47.2802  ],\n",
              "       [47.073994],\n",
              "       [46.83277 ],\n",
              "       [46.559025],\n",
              "       [46.255947],\n",
              "       [45.944187],\n",
              "       [45.64947 ],\n",
              "       [45.403606],\n",
              "       [45.225082],\n",
              "       [45.11389 ],\n",
              "       [45.05846 ],\n",
              "       [45.0444  ],\n",
              "       [45.076046],\n",
              "       [45.153324],\n",
              "       [45.263397],\n",
              "       [45.3803  ],\n",
              "       [45.483192],\n",
              "       [45.55551 ],\n",
              "       [45.603756],\n",
              "       [45.64687 ],\n",
              "       [45.690617],\n",
              "       [45.733803],\n",
              "       [45.774956],\n",
              "       [45.808784],\n",
              "       [45.83167 ],\n",
              "       [45.831158],\n",
              "       [45.78086 ],\n",
              "       [45.67691 ],\n",
              "       [45.526627],\n",
              "       [45.32523 ],\n",
              "       [45.06432 ],\n",
              "       [44.758377],\n",
              "       [44.434525],\n",
              "       [44.111168],\n",
              "       [43.79639 ],\n",
              "       [43.49264 ],\n",
              "       [43.203983],\n",
              "       [42.93056 ],\n",
              "       [42.676136],\n",
              "       [42.437847],\n",
              "       [42.202023],\n",
              "       [41.95932 ],\n",
              "       [41.715267],\n",
              "       [41.478893],\n",
              "       [41.251644],\n",
              "       [41.025818],\n",
              "       [40.788834],\n",
              "       [40.525925],\n",
              "       [40.217995],\n",
              "       [39.87623 ],\n",
              "       [39.525547],\n",
              "       [39.19506 ],\n",
              "       [38.90107 ],\n",
              "       [38.646626],\n",
              "       [38.426617],\n",
              "       [38.2288  ],\n",
              "       [38.038906],\n",
              "       [37.857876],\n",
              "       [37.6849  ],\n",
              "       [37.515965],\n",
              "       [37.340458],\n",
              "       [37.152363],\n",
              "       [36.960617],\n",
              "       [36.780254],\n",
              "       [36.631145],\n",
              "       [36.5321  ],\n",
              "       [36.493805],\n",
              "       [36.527657]], dtype=float32)"
            ]
          },
          "execution_count": 38,
          "metadata": {},
          "output_type": "execute_result"
        }
      ],
      "source": [
        "predicted_price = predictor.predict_prices(x_test)\n",
        "predicted_price"
      ]
    },
    {
      "cell_type": "markdown",
      "metadata": {},
      "source": [
        "### Prepare real_data with scaler.inverse_transform"
      ]
    },
    {
      "cell_type": "code",
      "execution_count": 42,
      "metadata": {},
      "outputs": [
        {
          "data": {
            "text/plain": [
              "array([[ 930.      ],\n",
              "       [ 928.25    ],\n",
              "       [ 921.849976],\n",
              "       [ 909.039978],\n",
              "       [ 893.390015],\n",
              "       [ 886.119995],\n",
              "       [ 957.049988],\n",
              "       [ 997.559998],\n",
              "       [1070.719971],\n",
              "       [1078.420044],\n",
              "       [1064.140015],\n",
              "       [1053.150024],\n",
              "       [1054.589966],\n",
              "       [1136.040039],\n",
              "       [1123.050049],\n",
              "       [1081.01001 ],\n",
              "       [1020.5     ],\n",
              "       [1010.      ],\n",
              "       [ 980.      ],\n",
              "       [1038.819946],\n",
              "       [1072.589966],\n",
              "       [1026.540039],\n",
              "       [1013.380005],\n",
              "       [1016.059998],\n",
              "       [ 995.      ],\n",
              "       [ 994.      ],\n",
              "       [ 940.5     ],\n",
              "       [ 851.469971],\n",
              "       [ 903.210022],\n",
              "       [ 906.      ],\n",
              "       [ 829.      ],\n",
              "       [ 792.01001 ],\n",
              "       [ 862.049988],\n",
              "       [ 905.      ],\n",
              "       [ 889.409973],\n",
              "       [ 880.52002 ],\n",
              "       [ 881.169983],\n",
              "       [ 902.710022],\n",
              "       [ 894.799988],\n",
              "       [ 920.      ],\n",
              "       [ 896.700012],\n",
              "       [ 850.700012],\n",
              "       [ 853.150024],\n",
              "       [ 893.380005],\n",
              "       [ 901.210022],\n",
              "       [ 874.099976],\n",
              "       [ 837.609985],\n",
              "       [ 801.099976],\n",
              "       [ 760.559998],\n",
              "       [ 700.      ],\n",
              "       [ 782.400024],\n",
              "       [ 814.710022],\n",
              "       [ 853.780029],\n",
              "       [ 844.27002 ],\n",
              "       [ 832.599976],\n",
              "       [ 825.159973],\n",
              "       [ 804.570007],\n",
              "       [ 782.169983],\n",
              "       [ 832.01001 ],\n",
              "       [ 810.359985],\n",
              "       [ 793.77002 ],\n",
              "       [ 756.039978],\n",
              "       [ 756.570007],\n",
              "       [ 802.26001 ],\n",
              "       [ 825.719971],\n",
              "       [ 867.390015],\n",
              "       [ 907.090027],\n",
              "       [ 921.75    ],\n",
              "       [ 976.400024],\n",
              "       [ 988.799988]])"
            ]
          },
          "execution_count": 42,
          "metadata": {},
          "output_type": "execute_result"
        }
      ],
      "source": [
        "real_price = predictor.scaler.inverse_transform(y_test.reshape(-1, 1))\n",
        "real_price"
      ]
    },
    {
      "cell_type": "markdown",
      "metadata": {},
      "source": [
        "### Generate a plot prices\n",
        "\n",
        "``` plot_prices() ``` generate a graph that shows based on a predicted_price and real_price data graph"
      ]
    },
    {
      "cell_type": "code",
      "execution_count": 43,
      "metadata": {},
      "outputs": [
        {
          "data": {
            "image/png": "[encoded data removed]",
            "text/plain": [
              "<Figure size 640x480 with 1 Axes>"
            ]
          },
          "metadata": {},
          "output_type": "display_data"
        }
      ],
      "source": [
        "predictor.plot_prices(real_price, predicted_price)"
      ]
    },
    {
      "cell_type": "markdown",
      "metadata": {},
      "source": [
        "### Evaluate model "
      ]
    },
    {
      "cell_type": "code",
      "execution_count": 44,
      "metadata": {},
      "outputs": [],
      "source": [
        "rmse, mae = predictor.evaluate_model(predicted_price, real_price)"
      ]
    },
    {
      "cell_type": "markdown",
      "metadata": {},
      "source": [
        "### Return RMSE and MAE from model evaluation"
      ]
    },
    {
      "cell_type": "code",
      "execution_count": 45,
      "metadata": {},
      "outputs": [
        {
          "name": "stdout",
          "output_type": "stream",
          "text": [
            "RMSE: 873.4003821144788\n",
            "MAE: 868.0351093971923\n"
          ]
        }
      ],
      "source": [
        "print(f'RMSE: {rmse}')\n",
        "print(f'MAE: {mae}')"
      ]
    }
  ],
  "metadata": {
    "colab": {
      "provenance": []
    },
    "kernelspec": {
      "display_name": "Python 3 (ipykernel)",
      "language": "python",
      "name": "python3"
    },
    "language_info": {
      "codemirror_mode": {
        "name": "ipython",
        "version": 3
      },
      "file_extension": ".py",
      "mimetype": "text/x-python",
      "name": "python",
      "nbconvert_exporter": "python",
      "pygments_lexer": "ipython3",
      "version": "3.11.4"
    }
  },
  "nbformat": 4,
  "nbformat_minor": 5
}
